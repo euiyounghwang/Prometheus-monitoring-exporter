{
 "cells": [
  {
   "cell_type": "code",
   "execution_count": 413,
   "id": "aa3abf13-b689-471e-b68a-fabd613f3be8",
   "metadata": {},
   "outputs": [
    {
     "name": "stdout",
     "output_type": "stream",
     "text": [
      "InfluxDB2 client\n"
     ]
    }
   ],
   "source": [
    "print(f\"InfluxDB2 client\")"
   ]
  },
  {
   "cell_type": "code",
   "execution_count": 414,
   "id": "5009c65f-4321-4d00-9952-3379e0f84437",
   "metadata": {},
   "outputs": [],
   "source": [
    "# InfluxDB Client docs : https://influxdb-python.readthedocs.io/en/latest/examples.html\n",
    "# InfluxDB2 Client docs : https://influxdb-client.readthedocs.io/en/latest/"
   ]
  },
  {
   "cell_type": "code",
   "execution_count": null,
   "id": "b9579ee5-5c9c-420a-975f-9bfb49f9ee01",
   "metadata": {},
   "outputs": [],
   "source": [
    "#!pip install influxdb-client[async]"
   ]
  },
  {
   "cell_type": "code",
   "execution_count": 416,
   "id": "e133019f-0657-4308-b0e3-b6150ccfe5b5",
   "metadata": {},
   "outputs": [],
   "source": [
    "from influxdb_client import InfluxDBClient, Point\n",
    "from influxdb_client.client.write_api import SYNCHRONOUS\n",
    "import json\n",
    "import random\n",
    "import warnings\n",
    "warnings.filterwarnings(\"ignore\")"
   ]
  },
  {
   "cell_type": "code",
   "execution_count": 417,
   "id": "77373e93-9d9c-4ad3-a997-67b269c86b68",
   "metadata": {},
   "outputs": [],
   "source": [
    "bucket = \"SCRIPT\""
   ]
  },
  {
   "cell_type": "code",
   "execution_count": 418,
   "id": "066a8cc3-1017-49c5-be1d-e517a1214f77",
   "metadata": {},
   "outputs": [],
   "source": [
    "def query_table(query_api):\n",
    "    try:\n",
    "        ## using Table structure\n",
    "        tables = query_api.query('from(bucket:\"{}\") |> range(start: -5m)'.format(bucket))\n",
    "        \n",
    "        for table in tables:\n",
    "            # print(table)\n",
    "            for row in table.records:\n",
    "                # print(json.dumps(row.values, indent=2))\n",
    "                print(row.values)\n",
    "    except Exception as e:\n",
    "        print(e)"
   ]
  },
  {
   "cell_type": "code",
   "execution_count": 419,
   "id": "fae352f4-8adb-4330-9484-2d79cd3c8b7b",
   "metadata": {},
   "outputs": [],
   "source": [
    "def query_csv(query_api):\n",
    "    try:\n",
    "        ## using csv library\n",
    "        csv_result = query_api.query_csv('from(bucket:\"{}\") |> range(start: -10m)'.format(bucket))\n",
    "        val_count = 0\n",
    "        for row in csv_result:\n",
    "            for cell in row:\n",
    "                val_count += 1\n",
    "    except Exception as e:\n",
    "        print(e)"
   ]
  },
  {
   "cell_type": "code",
   "execution_count": null,
   "id": "b6ed1f80-ce3b-4534-8b2a-98b1378eeb26",
   "metadata": {},
   "outputs": [
    {
     "name": "stdout",
     "output_type": "stream",
     "text": [
      "sample number : 2.656239134571438\n"
     ]
    }
   ],
   "source": [
    "try:\n",
    "    # client = InfluxDBClient(url=\"https://localhost:8086\", \n",
    "    #                         token=\"my-token\", \n",
    "    #                         org=\"ES\", \n",
    "    #                         verify_ssl=False)\n",
    "    \n",
    "    client = InfluxDBClient.from_config_file(\"influxDB2_config.ini\")\n",
    "    write_api = client.write_api(write_options=SYNCHRONOUS)\n",
    "    query_api = client.query_api()\n",
    "\n",
    "    sample_number = random.uniform(0,5)\n",
    "    print(f\"sample number : {sample_number}\")\n",
    "    p = Point(\"my_measurement\").tag(\"location\", \"Prague\").field(\"temperature\", sample_number)\n",
    "    \n",
    "    write_api.write(bucket=bucket, record=p, write_precision='s')\n",
    "except Exception as e:\n",
    "    print(e)"
   ]
  },
  {
   "cell_type": "code",
   "execution_count": 421,
   "id": "9b2c4ffc-54a1-40c7-92b0-019ebbcc751a",
   "metadata": {},
   "outputs": [
    {
     "name": "stdout",
     "output_type": "stream",
     "text": [
      "{'result': '_result', 'table': 0, '_start': datetime.datetime(2025, 4, 23, 20, 39, 45, 163350, tzinfo=tzutc()), '_stop': datetime.datetime(2025, 4, 23, 20, 44, 45, 163350, tzinfo=tzutc()), '_time': datetime.datetime(2025, 4, 23, 20, 44, 39, 422227, tzinfo=tzutc()), '_value': 2.058143504013508, '_field': 'temperature', '_measurement': 'my_measurement', 'location': 'Prague'}\n",
      "{'result': '_result', 'table': 0, '_start': datetime.datetime(2025, 4, 23, 20, 39, 45, 163350, tzinfo=tzutc()), '_stop': datetime.datetime(2025, 4, 23, 20, 44, 45, 163350, tzinfo=tzutc()), '_time': datetime.datetime(2025, 4, 23, 20, 44, 42, 162377, tzinfo=tzutc()), '_value': 0.9715045487922741, '_field': 'temperature', '_measurement': 'my_measurement', 'location': 'Prague'}\n",
      "{'result': '_result', 'table': 0, '_start': datetime.datetime(2025, 4, 23, 20, 39, 45, 163350, tzinfo=tzutc()), '_stop': datetime.datetime(2025, 4, 23, 20, 44, 45, 163350, tzinfo=tzutc()), '_time': datetime.datetime(2025, 4, 23, 20, 44, 43, 645022, tzinfo=tzutc()), '_value': 3.772502138315748, '_field': 'temperature', '_measurement': 'my_measurement', 'location': 'Prague'}\n",
      "{'result': '_result', 'table': 0, '_start': datetime.datetime(2025, 4, 23, 20, 39, 45, 163350, tzinfo=tzutc()), '_stop': datetime.datetime(2025, 4, 23, 20, 44, 45, 163350, tzinfo=tzutc()), '_time': datetime.datetime(2025, 4, 23, 20, 44, 45, 155594, tzinfo=tzutc()), '_value': 2.656239134571438, '_field': 'temperature', '_measurement': 'my_measurement', 'location': 'Prague'}\n"
     ]
    }
   ],
   "source": [
    "query_table(query_api)"
   ]
  },
  {
   "cell_type": "code",
   "execution_count": null,
   "id": "e4452a6e-6c47-4ebe-a45b-38ef64e4f9f5",
   "metadata": {},
   "outputs": [],
   "source": []
  }
 ],
 "metadata": {
  "kernelspec": {
   "display_name": "Python 3 (ipykernel)",
   "language": "python",
   "name": "python3"
  },
  "language_info": {
   "codemirror_mode": {
    "name": "ipython",
    "version": 3
   },
   "file_extension": ".py",
   "mimetype": "text/x-python",
   "name": "python",
   "nbconvert_exporter": "python",
   "pygments_lexer": "ipython3",
   "version": "3.9.0"
  }
 },
 "nbformat": 4,
 "nbformat_minor": 5
}
