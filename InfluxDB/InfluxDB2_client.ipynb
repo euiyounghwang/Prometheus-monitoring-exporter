{
 "cells": [
  {
   "cell_type": "code",
   "execution_count": 661,
   "id": "aa3abf13-b689-471e-b68a-fabd613f3be8",
   "metadata": {},
   "outputs": [
    {
     "name": "stdout",
     "output_type": "stream",
     "text": [
      "InfluxDB2 client\n"
     ]
    }
   ],
   "source": [
    "print(f\"InfluxDB2 client\")"
   ]
  },
  {
   "cell_type": "code",
   "execution_count": 662,
   "id": "5009c65f-4321-4d00-9952-3379e0f84437",
   "metadata": {},
   "outputs": [],
   "source": [
    "# InfluxDB Client docs : https://influxdb-python.readthedocs.io/en/latest/examples.html\n",
    "# InfluxDB2 Client docs : https://influxdb-client.readthedocs.io/en/latest/\n",
    "# InfluxDB2 Client Query docs : https://github.com/influxdata/influxdb-client-python/#queries"
   ]
  },
  {
   "cell_type": "code",
   "execution_count": null,
   "id": "b9579ee5-5c9c-420a-975f-9bfb49f9ee01",
   "metadata": {},
   "outputs": [],
   "source": [
    "#!pip install influxdb-client[async]"
   ]
  },
  {
   "cell_type": "code",
   "execution_count": 664,
   "id": "e133019f-0657-4308-b0e3-b6150ccfe5b5",
   "metadata": {},
   "outputs": [],
   "source": [
    "from influxdb_client import InfluxDBClient, Point\n",
    "from influxdb_client.client.write_api import SYNCHRONOUS\n",
    "import json\n",
    "import random\n",
    "import pytz\n",
    "import pandas as pd\n",
    "import warnings\n",
    "warnings.filterwarnings(\"ignore\")"
   ]
  },
  {
   "cell_type": "code",
   "execution_count": 665,
   "id": "77373e93-9d9c-4ad3-a997-67b269c86b68",
   "metadata": {},
   "outputs": [],
   "source": [
    "bucket = \"SCRIPT\""
   ]
  },
  {
   "cell_type": "code",
   "execution_count": 666,
   "id": "066a8cc3-1017-49c5-be1d-e517a1214f77",
   "metadata": {},
   "outputs": [],
   "source": [
    "def query_table(query_api):\n",
    "    try:\n",
    "        ## using Table structure\n",
    "        tables = query_api.query('from(bucket:\"{}\") |> range(start: -5m)'.format(bucket))\n",
    "        \n",
    "        for table in tables:\n",
    "            # print(table)\n",
    "            for row in table.records:\n",
    "                # print(json.dumps(row.values, indent=2))\n",
    "                print(row.values)\n",
    "    except Exception as e:\n",
    "        print(e)"
   ]
  },
  {
   "cell_type": "code",
   "execution_count": 667,
   "id": "2adbe907-c409-41da-89c3-fa868296a1ff",
   "metadata": {},
   "outputs": [],
   "source": [
    "def query_dataframe(query_api):\n",
    "    try:\n",
    "        ## using Table structure\n",
    "        data_frame  = query_api.query_data_frame('from(bucket:\"{}\") |> range(start: -1m)'.format(bucket))\n",
    "        # print(data_frame.to_string())\n",
    "        data_frame['_start'] = pd.to_datetime(data_frame['_start'], unit='s', utc=True).dt.tz_convert('America/Chicago').dt.tz_localize(None)\n",
    "        data_frame['_stop'] = pd.to_datetime(data_frame['_stop'], unit='s', utc=True).dt.tz_convert('America/Chicago').dt.tz_localize(None)\n",
    "        data_frame['_time'] = pd.to_datetime(data_frame['_time'], unit='s', utc=True).dt.tz_convert('America/Chicago').dt.tz_localize(None)\n",
    "        display(data_frame)\n",
    "        json_data = json.loads(data_frame.to_json(orient='records', date_format='iso'))\n",
    "        print(json.dumps(json_data, indent=2))\n",
    "    except Exception as e:\n",
    "        print(e)"
   ]
  },
  {
   "cell_type": "code",
   "execution_count": 668,
   "id": "fae352f4-8adb-4330-9484-2d79cd3c8b7b",
   "metadata": {},
   "outputs": [],
   "source": [
    "def query_csv(query_api):\n",
    "    try:\n",
    "        ## using csv library\n",
    "        csv_result = query_api.query_csv('from(bucket:\"SCRIPT\") |> range(start: -5m)'.format(bucket))\n",
    "        val_count = 0\n",
    "        for row in csv_result:\n",
    "            for cell in row:\n",
    "                val_count += 1\n",
    "    except Exception as e:\n",
    "        print(e)"
   ]
  },
  {
   "cell_type": "code",
   "execution_count": null,
   "id": "b6ed1f80-ce3b-4534-8b2a-98b1378eeb26",
   "metadata": {},
   "outputs": [
    {
     "name": "stdout",
     "output_type": "stream",
     "text": [
      "sample number : 29.573676173795167\n"
     ]
    }
   ],
   "source": [
    "try:\n",
    "    # client = InfluxDBClient(url=\"https://localhost:8086\", \n",
    "    #                         token=\"my-token\", \n",
    "    #                         org=\"ES\", \n",
    "    #                         verify_ssl=False)\n",
    "    \n",
    "    client = InfluxDBClient.from_config_file(\"influxDB2_config.ini\")\n",
    "    write_api = client.write_api(write_options=SYNCHRONOUS)\n",
    "    query_api = client.query_api()\n",
    "\n",
    "    sample_number = random.uniform(0,50)\n",
    "    print(f\"sample number : {sample_number}\")\n",
    "    p = Point(\"my_measurement\").tag(\"location\", \"Prague\").field(\"temperature\", sample_number)\n",
    "    \n",
    "    write_api.write(bucket=bucket, record=p, write_precision='s')\n",
    "except Exception as e:\n",
    "    print(e)"
   ]
  },
  {
   "cell_type": "code",
   "execution_count": 670,
   "id": "9b2c4ffc-54a1-40c7-92b0-019ebbcc751a",
   "metadata": {},
   "outputs": [
    {
     "data": {
      "text/html": [
       "<div>\n",
       "<style scoped>\n",
       "    .dataframe tbody tr th:only-of-type {\n",
       "        vertical-align: middle;\n",
       "    }\n",
       "\n",
       "    .dataframe tbody tr th {\n",
       "        vertical-align: top;\n",
       "    }\n",
       "\n",
       "    .dataframe thead th {\n",
       "        text-align: right;\n",
       "    }\n",
       "</style>\n",
       "<table border=\"1\" class=\"dataframe\">\n",
       "  <thead>\n",
       "    <tr style=\"text-align: right;\">\n",
       "      <th></th>\n",
       "      <th>result</th>\n",
       "      <th>table</th>\n",
       "      <th>_start</th>\n",
       "      <th>_stop</th>\n",
       "      <th>_time</th>\n",
       "      <th>_value</th>\n",
       "      <th>_field</th>\n",
       "      <th>_measurement</th>\n",
       "      <th>location</th>\n",
       "    </tr>\n",
       "  </thead>\n",
       "  <tbody>\n",
       "    <tr>\n",
       "      <th>0</th>\n",
       "      <td>_result</td>\n",
       "      <td>0</td>\n",
       "      <td>2025-04-23 17:24:27.524647</td>\n",
       "      <td>2025-04-23 17:25:27.524647</td>\n",
       "      <td>2025-04-23 22:24:47.165699+00:00</td>\n",
       "      <td>39.642860</td>\n",
       "      <td>temperature</td>\n",
       "      <td>my_measurement</td>\n",
       "      <td>Prague</td>\n",
       "    </tr>\n",
       "    <tr>\n",
       "      <th>1</th>\n",
       "      <td>_result</td>\n",
       "      <td>0</td>\n",
       "      <td>2025-04-23 17:24:27.524647</td>\n",
       "      <td>2025-04-23 17:25:27.524647</td>\n",
       "      <td>2025-04-23 22:25:27.513850+00:00</td>\n",
       "      <td>29.573676</td>\n",
       "      <td>temperature</td>\n",
       "      <td>my_measurement</td>\n",
       "      <td>Prague</td>\n",
       "    </tr>\n",
       "  </tbody>\n",
       "</table>\n",
       "</div>"
      ],
      "text/plain": [
       "    result  table                     _start                      _stop  \\\n",
       "0  _result      0 2025-04-23 17:24:27.524647 2025-04-23 17:25:27.524647   \n",
       "1  _result      0 2025-04-23 17:24:27.524647 2025-04-23 17:25:27.524647   \n",
       "\n",
       "                             _time     _value       _field    _measurement  \\\n",
       "0 2025-04-23 22:24:47.165699+00:00  39.642860  temperature  my_measurement   \n",
       "1 2025-04-23 22:25:27.513850+00:00  29.573676  temperature  my_measurement   \n",
       "\n",
       "  location  \n",
       "0   Prague  \n",
       "1   Prague  "
      ]
     },
     "metadata": {},
     "output_type": "display_data"
    },
    {
     "name": "stdout",
     "output_type": "stream",
     "text": [
      "[\n",
      "  {\n",
      "    \"result\": \"_result\",\n",
      "    \"table\": 0,\n",
      "    \"_start\": \"2025-04-23T17:24:27.524\",\n",
      "    \"_stop\": \"2025-04-23T17:25:27.524\",\n",
      "    \"_time\": \"2025-04-23T22:24:47.165Z\",\n",
      "    \"_value\": 39.6428601363,\n",
      "    \"_field\": \"temperature\",\n",
      "    \"_measurement\": \"my_measurement\",\n",
      "    \"location\": \"Prague\"\n",
      "  },\n",
      "  {\n",
      "    \"result\": \"_result\",\n",
      "    \"table\": 0,\n",
      "    \"_start\": \"2025-04-23T17:24:27.524\",\n",
      "    \"_stop\": \"2025-04-23T17:25:27.524\",\n",
      "    \"_time\": \"2025-04-23T22:25:27.513Z\",\n",
      "    \"_value\": 29.5736761738,\n",
      "    \"_field\": \"temperature\",\n",
      "    \"_measurement\": \"my_measurement\",\n",
      "    \"location\": \"Prague\"\n",
      "  }\n",
      "]\n"
     ]
    }
   ],
   "source": [
    "# query_table(query_api)\n",
    "query_dataframe(query_api)"
   ]
  },
  {
   "cell_type": "code",
   "execution_count": null,
   "id": "e4452a6e-6c47-4ebe-a45b-38ef64e4f9f5",
   "metadata": {},
   "outputs": [],
   "source": []
  }
 ],
 "metadata": {
  "kernelspec": {
   "display_name": "Python 3 (ipykernel)",
   "language": "python",
   "name": "python3"
  },
  "language_info": {
   "codemirror_mode": {
    "name": "ipython",
    "version": 3
   },
   "file_extension": ".py",
   "mimetype": "text/x-python",
   "name": "python",
   "nbconvert_exporter": "python",
   "pygments_lexer": "ipython3",
   "version": "3.9.0"
  }
 },
 "nbformat": 4,
 "nbformat_minor": 5
}
