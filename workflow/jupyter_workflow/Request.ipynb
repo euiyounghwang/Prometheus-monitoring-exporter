{
 "cells": [
  {
   "cell_type": "code",
   "execution_count": 325,
   "id": "478d343b-eef2-4130-a7f3-4c4c6797a8ec",
   "metadata": {},
   "outputs": [
    {
     "name": "stdout",
     "output_type": "stream",
     "text": [
      "Request.Post\n"
     ]
    }
   ],
   "source": [
    "print(f\"Request.Post\")"
   ]
  },
  {
   "cell_type": "code",
   "execution_count": 326,
   "id": "1517048c-3685-412a-a4d5-663448dba787",
   "metadata": {},
   "outputs": [],
   "source": [
    "import requests\n",
    "import logging\n",
    "import os\n",
    "import sys\n",
    "from dotenv import load_dotenv\n",
    "import warnings\n",
    "warnings.filterwarnings(\"ignore\")"
   ]
  },
  {
   "cell_type": "code",
   "execution_count": null,
   "id": "f0d45b58-2bc9-426f-9fa3-dd09cee16ac3",
   "metadata": {},
   "outputs": [],
   "source": [
    "''' pip install python-dotenv'''\n",
    "# load_dotenv() # will search for .env file in local folder and load variables\n",
    "# Reload the variables from your .env file, overriding existing ones\n",
    "load_dotenv(\".env\", override=True)"
   ]
  },
  {
   "cell_type": "code",
   "execution_count": null,
   "id": "7703f93c-f50b-4977-8537-2b9e07ceb2c8",
   "metadata": {},
   "outputs": [],
   "source": [
    "# 로깅 설정\n",
    "logging.basicConfig(\n",
    "    level=logging.INFO,\n",
    "    format='%(asctime)s - %(name)s - %(levelname)s - %(message)s',\n",
    "    handlers=[\n",
    "        logging.StreamHandler(sys.stdout)\n",
    "    ]\n",
    ")"
   ]
  },
  {
   "cell_type": "code",
   "execution_count": null,
   "id": "ca507834-cb75-4752-aca8-429dd801af4e",
   "metadata": {},
   "outputs": [],
   "source": [
    "logger = logging.getLogger(\"api-call\")"
   ]
  },
  {
   "cell_type": "code",
   "execution_count": null,
   "id": "11d4c3ae-3d06-48b9-ba46-5150c22971f9",
   "metadata": {},
   "outputs": [],
   "source": [
    "\"\"\"\n",
    "curl -X 'POST' 'http://localhost:8004/config/update_alert_config'\n",
    "\"\"\""
   ]
  },
  {
   "cell_type": "code",
   "execution_count": null,
   "id": "899ac285-d1f4-4733-b70b-2d4ca08d6d41",
   "metadata": {},
   "outputs": [],
   "source": [
    "# Unknown environment\n",
    "\"\"\"\n",
    "curl -X 'POST' \\\n",
    "  'http://localhost:8004/config/update_alert_config' \\\n",
    "  -H 'accept: application/json' \\\n",
    "  -H 'Content-Type: application/json' \\\n",
    "  -d '{\n",
    "  \"env\": \"dev\",\n",
    "  \"alert\": \"false\",\n",
    "  \"message\": \"Security Patching\"\n",
    "}'\n",
    "\"\"\""
   ]
  },
  {
   "cell_type": "code",
   "execution_count": null,
   "id": "c37d30b5-9ace-4c29-8ab3-c0c564c31ab2",
   "metadata": {},
   "outputs": [],
   "source": [
    "''' https://restfulapi.net/http-status-codes/ '''\n",
    "http_status_code = {\n",
    "    200 : 'Indicates that the request has succeeded.',\n",
    "    201 : 'Indicates that the request has succeeded and a new resource has been created as a result.',\n",
    "    400 : 'The server could not understand the request due to incorrect syntax. The client should NOT repeat the request without modifications.',\n",
    "    401 : 'Unauthorized rquests. Insufficient permissions',\n",
    "    404: 'the server could not find the requested resource (web page)',\n",
    "    405 : 'the server has received a request using a valid HTTP method, but the target resource does not support that specific method.',\n",
    "    422 : 'server understood the content type of the request body and the syntax of the request body was correct, but it was unable to process the contained instructions.',\n",
    "    403 : 'Unauthorized request. Insufficient permissions. The client does not have access rights to the content. ',\n",
    "    500 : 'The server encountered an unexpected condition that prevented it from fulfilling the request.'\n",
    "}"
   ]
  },
  {
   "cell_type": "code",
   "execution_count": null,
   "id": "c029711e-b1cd-4b3d-9efd-a0dc3f67ce3f",
   "metadata": {},
   "outputs": [],
   "source": [
    "def get():\n",
    "    try:\n",
    "        response = requests.get(\"http://{}:8004/a\".format(os.getenv(\"api_end_point\")), timeout=5, verify=False)\n",
    "        print(f\"{response.status_code} - {http_status_code.get(response.status_code, '')}\")\n",
    "        \n",
    "    except Exception as e:\n",
    "        logging.error(e)\n",
    "        # pass"
   ]
  },
  {
   "cell_type": "code",
   "execution_count": null,
   "id": "69571d12-45e4-4698-a715-1a5f77e87d04",
   "metadata": {},
   "outputs": [],
   "source": [
    "def post():\n",
    "    try:\n",
    "        url = '{}'.format(\"http://{}:8004/config/update_alert_config\".format(os.getenv(\"api_end_point\")))\n",
    "        headers = {\n",
    "            'Content-type': 'application/json',\n",
    "             'Authorization' : 'Basic test',\n",
    "             'Connection': 'close'\n",
    "        }\n",
    "        \n",
    "        \"\"\"\n",
    "        {\n",
    "            \"recipients\": \"TEST Group\",\n",
    "            \"summary\": \"[Dev] Prometheus Alert\",\n",
    "            \"description\": \"The alert is a test message \\nnew line\\n\\nnext new line\",\n",
    "            \"priority\": \"MEDIUM\"\n",
    "        }\n",
    "        \"\"\"\n",
    "        # payload = {\n",
    "        #     \"recipients\": \"{}\".format(gloabl_configuration.get('config').get('xmatters_recipients')),\n",
    "        #     \"summary\": \"[{}] Prometheus Alert\".format(env),\n",
    "        #     \"description\": message,\n",
    "        #     \"priority\": \"MEDIUM\"\n",
    "        # }\n",
    "        # payload = json.dumps(payload)\n",
    "        # response = requests.post(url, json=payload, headers=headers, verify=False)\n",
    "        response = requests.post(url, headers=headers, verify=False)\n",
    "        print(f\"{response.status_code} - {http_status_code.get(response.status_code, '')}\")\n",
    "        \n",
    "    except Exception as e:\n",
    "        logging.error(e)\n",
    "        pass"
   ]
  },
  {
   "cell_type": "code",
   "execution_count": null,
   "id": "a08841be-af9e-4794-993b-c158f8354f98",
   "metadata": {},
   "outputs": [],
   "source": [
    "get()"
   ]
  },
  {
   "cell_type": "code",
   "execution_count": null,
   "id": "e0c0bf36-41c3-49d6-8c52-cf6fb11dcb3e",
   "metadata": {},
   "outputs": [],
   "source": [
    "post()"
   ]
  }
 ],
 "metadata": {
  "kernelspec": {
   "display_name": "Python 3 (ipykernel)",
   "language": "python",
   "name": "python3"
  },
  "language_info": {
   "codemirror_mode": {
    "name": "ipython",
    "version": 3
   },
   "file_extension": ".py",
   "mimetype": "text/x-python",
   "name": "python",
   "nbconvert_exporter": "python",
   "pygments_lexer": "ipython3",
   "version": "3.9.0"
  }
 },
 "nbformat": 4,
 "nbformat_minor": 5
}
