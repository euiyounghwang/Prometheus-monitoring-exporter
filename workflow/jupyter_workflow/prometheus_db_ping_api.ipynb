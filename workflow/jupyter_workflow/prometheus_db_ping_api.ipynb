{
 "cells": [
  {
   "cell_type": "code",
   "execution_count": 270,
   "id": "c31ad9e4-9157-4487-953b-ab5b8e7dbed9",
   "metadata": {},
   "outputs": [
    {
     "name": "stdout",
     "output_type": "stream",
     "text": [
      "** Prometheus Monitoring DB Test **\n"
     ]
    }
   ],
   "source": [
    "# ** Prometheus Monitoring DB Test ** \n",
    "print(f\"** Prometheus Monitoring DB Test **\")"
   ]
  },
  {
   "cell_type": "code",
   "execution_count": 271,
   "id": "5a8e9958-d4e2-4321-8520-51c23530140e",
   "metadata": {},
   "outputs": [],
   "source": [
    "import logging\n",
    "import requests\n",
    "import os\n",
    "import json\n",
    "from dotenv import load_dotenv\n",
    "import pandas as pd\n",
    "\n",
    "logging.basicConfig(format='%(asctime)s : %(levelname)s : %(message)s', level=logging.INFO)"
   ]
  },
  {
   "cell_type": "code",
   "execution_count": 272,
   "id": "632bde7b-12ed-4dfa-9429-87556e9bda32",
   "metadata": {},
   "outputs": [
    {
     "data": {
      "text/plain": [
       "True"
      ]
     },
     "execution_count": 272,
     "metadata": {},
     "output_type": "execute_result"
    }
   ],
   "source": [
    "''' pip install python-dotenv'''\n",
    "load_dotenv() # will search for .env file in local folder and load variables "
   ]
  },
  {
   "cell_type": "code",
   "execution_count": 273,
   "id": "9310ff2b-50ca-4f53-ac1c-d5debc37e42f",
   "metadata": {},
   "outputs": [],
   "source": [
    "''' call to DB interface RestAPI'''\n",
    "pd_colmuns, pd_values = [], []\n",
    "pd_dataframe_dict = {}\n",
    "def get_db_active(env, sql):\n",
    "    db_url = os.getenv(str(env).upper())\n",
    "    request_body = {\n",
    "        \"db_url\" : db_url,\n",
    "        \"sql\" : sql\n",
    "    }\n",
    "    \n",
    "    # logging.info(\"db_http_host : {}, db_url : {}, sql : {}\".format(os.getenv(\"DB_API_HOST\"), db_url, sql))\n",
    "    http_urls = \"http://{}/db/get_db_query\".format(os.getenv(\"DB_API_HOST\"))\n",
    "    resp = requests.post(url=http_urls, json=request_body, timeout=600)\n",
    "    logging.info(f\"resp status code : {resp.status_code}\")\n",
    "\n",
    "    ''' resp body '''\n",
    "    response = resp.json()\n",
    "    # logging.info(json.dumps(resp.json(), indent=2))\n",
    "    logging.info(type(response))\n",
    "\n",
    "    if resp.status_code != 200:\n",
    "        return None\n",
    "\n",
    "    '''\n",
    "    for row in response['results']:\n",
    "        for k, v in row.items():\n",
    "            if k not in pd_dataframe_dict.keys():\n",
    "                pd_dataframe_dict.update({k : [str(v)]})\n",
    "            else:\n",
    "                pd_dataframe_dict.update({k : pd_dataframe_dict.get(k) + [v]})\n",
    "\n",
    "    # logging.info(json.dumps(pd_dataframe_dict, indent=2))\n",
    "    return pd_dataframe_dict\n",
    "    '''\n",
    "    return response['results']        "
   ]
  },
  {
   "cell_type": "code",
   "execution_count": 274,
   "id": "21fb4137-aa6c-4277-bb30-4a5d8deb6a00",
   "metadata": {},
   "outputs": [],
   "source": [
    "def get_db_work(env):\n",
    "    ''' two db's'''\n",
    "    try:\n",
    "        '''backlog '''\n",
    "        pd_dataframe_dict = get_db_active(f\"{env}_WMx\", os.getenv(\"BACKLOG_SQL\"))\n",
    "        df = pd.DataFrame(pd_dataframe_dict)\n",
    "        display(df)\n",
    "\n",
    "        pd_dataframe_dict = get_db_active(f\"{env}_OMx\", os.getenv(\"BACKLOG_SQL\"))\n",
    "        df = pd.DataFrame(pd_dataframe_dict)\n",
    "        display(df)\n",
    "\n",
    "        ''' data pipeline '''\n",
    "        '''\n",
    "        pd_dataframe_dict = get_db_active(f\"{env}_WMx\", os.getenv(\"SQL\"))\n",
    "        df = pd.DataFrame(pd_dataframe_dict)\n",
    "        display(df)\n",
    "        \n",
    "        pd_dataframe_dict = get_db_active(f\"{env}_OMx\", os.getenv(\"SQL\"))\n",
    "        df = pd.DataFrame(pd_dataframe_dict)\n",
    "        # print(df.head(10))\n",
    "        display(df)\n",
    "        '''\n",
    " \n",
    "    except Exception as e:\n",
    "        logging.error(e)"
   ]
  },
  {
   "cell_type": "code",
   "execution_count": 275,
   "id": "06512c8a-0cc7-4e84-9824-7c714d86d688",
   "metadata": {},
   "outputs": [
    {
     "name": "stderr",
     "output_type": "stream",
     "text": [
      "2024-12-19 14:17:29,595 : INFO : resp status code : 200\n",
      "2024-12-19 14:17:29,596 : INFO : <class 'dict'>\n"
     ]
    },
    {
     "data": {
      "text/html": [
       "<div>\n",
       "<style scoped>\n",
       "    .dataframe tbody tr th:only-of-type {\n",
       "        vertical-align: middle;\n",
       "    }\n",
       "\n",
       "    .dataframe tbody tr th {\n",
       "        vertical-align: top;\n",
       "    }\n",
       "\n",
       "    .dataframe thead th {\n",
       "        text-align: right;\n",
       "    }\n",
       "</style>\n",
       "<table border=\"1\" class=\"dataframe\">\n",
       "  <thead>\n",
       "    <tr style=\"text-align: right;\">\n",
       "      <th></th>\n",
       "      <th>TOTAL_UNPROCESSED_RECS</th>\n",
       "    </tr>\n",
       "  </thead>\n",
       "  <tbody>\n",
       "    <tr>\n",
       "      <th>0</th>\n",
       "      <td>171</td>\n",
       "    </tr>\n",
       "  </tbody>\n",
       "</table>\n",
       "</div>"
      ],
      "text/plain": [
       "   TOTAL_UNPROCESSED_RECS\n",
       "0                     171"
      ]
     },
     "metadata": {},
     "output_type": "display_data"
    },
    {
     "name": "stderr",
     "output_type": "stream",
     "text": [
      "2024-12-19 14:17:31,566 : INFO : resp status code : 200\n",
      "2024-12-19 14:17:31,567 : INFO : <class 'dict'>\n"
     ]
    },
    {
     "data": {
      "text/html": [
       "<div>\n",
       "<style scoped>\n",
       "    .dataframe tbody tr th:only-of-type {\n",
       "        vertical-align: middle;\n",
       "    }\n",
       "\n",
       "    .dataframe tbody tr th {\n",
       "        vertical-align: top;\n",
       "    }\n",
       "\n",
       "    .dataframe thead th {\n",
       "        text-align: right;\n",
       "    }\n",
       "</style>\n",
       "<table border=\"1\" class=\"dataframe\">\n",
       "  <thead>\n",
       "    <tr style=\"text-align: right;\">\n",
       "      <th></th>\n",
       "      <th>TOTAL_UNPROCESSED_RECS</th>\n",
       "    </tr>\n",
       "  </thead>\n",
       "  <tbody>\n",
       "    <tr>\n",
       "      <th>0</th>\n",
       "      <td>1084</td>\n",
       "    </tr>\n",
       "  </tbody>\n",
       "</table>\n",
       "</div>"
      ],
      "text/plain": [
       "   TOTAL_UNPROCESSED_RECS\n",
       "0                    1084"
      ]
     },
     "metadata": {},
     "output_type": "display_data"
    }
   ],
   "source": [
    "# pd_dataframe_dict = get_db_work(\"Dev\")\n",
    "# pd_dataframe_dict = get_db_work(\"Prod1\")\n",
    "pd_dataframe_dict = get_db_work(\"Prod16\")"
   ]
  }
 ],
 "metadata": {
  "kernelspec": {
   "display_name": "Python 3 (ipykernel)",
   "language": "python",
   "name": "python3"
  },
  "language_info": {
   "codemirror_mode": {
    "name": "ipython",
    "version": 3
   },
   "file_extension": ".py",
   "mimetype": "text/x-python",
   "name": "python",
   "nbconvert_exporter": "python",
   "pygments_lexer": "ipython3",
   "version": "3.11.7"
  }
 },
 "nbformat": 4,
 "nbformat_minor": 5
}
