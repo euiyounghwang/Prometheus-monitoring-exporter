{
 "cells": [
  {
   "cell_type": "code",
   "execution_count": 1,
   "id": "80c18578-ac9f-44ca-a0c0-2883e8591d64",
   "metadata": {},
   "outputs": [
    {
     "data": {
      "text/plain": [
       "' \\nThe Jupyter notebook is a web-based notebook environment for interactive computing. \\nThe Jupyter Notebook is an open source web application that you can use to create and share documents that \\ncontain live code, equations, visualizations, and text.\\n'"
      ]
     },
     "execution_count": 1,
     "metadata": {},
     "output_type": "execute_result"
    }
   ],
   "source": [
    "''' \n",
    "The Jupyter notebook is a web-based notebook environment for interactive computing. \n",
    "The Jupyter Notebook is an open source web application that you can use to create and share documents that \n",
    "contain live code, equations, visualizations, and text.\n",
    "'''"
   ]
  },
  {
   "cell_type": "code",
   "execution_count": 2,
   "id": "5ddd6a26-823c-461b-a67f-ddfd832d2552",
   "metadata": {},
   "outputs": [
    {
     "name": "stdout",
     "output_type": "stream",
     "text": [
      "Requirement already satisfied: plotly in ./.venv/lib/python3.9/site-packages (5.24.1)\n",
      "Requirement already satisfied: tenacity>=6.2.0 in ./.venv/lib/python3.9/site-packages (from plotly) (9.0.0)\n",
      "Requirement already satisfied: packaging in ./.venv/lib/python3.9/site-packages (from plotly) (24.1)\n",
      "Requirement already satisfied: matplotlib in ./.venv/lib/python3.9/site-packages (3.9.2)\n",
      "Requirement already satisfied: contourpy>=1.0.1 in ./.venv/lib/python3.9/site-packages (from matplotlib) (1.3.0)\n",
      "Requirement already satisfied: cycler>=0.10 in ./.venv/lib/python3.9/site-packages (from matplotlib) (0.12.1)\n",
      "Requirement already satisfied: fonttools>=4.22.0 in ./.venv/lib/python3.9/site-packages (from matplotlib) (4.54.1)\n",
      "Requirement already satisfied: kiwisolver>=1.3.1 in ./.venv/lib/python3.9/site-packages (from matplotlib) (1.4.7)\n",
      "Requirement already satisfied: numpy>=1.23 in ./.venv/lib/python3.9/site-packages (from matplotlib) (1.26.4)\n",
      "Requirement already satisfied: packaging>=20.0 in ./.venv/lib/python3.9/site-packages (from matplotlib) (24.1)\n",
      "Requirement already satisfied: pillow>=8 in ./.venv/lib/python3.9/site-packages (from matplotlib) (10.4.0)\n",
      "Requirement already satisfied: pyparsing>=2.3.1 in ./.venv/lib/python3.9/site-packages (from matplotlib) (3.1.4)\n",
      "Requirement already satisfied: python-dateutil>=2.7 in ./.venv/lib/python3.9/site-packages (from matplotlib) (2.9.0.post0)\n",
      "Requirement already satisfied: importlib-resources>=3.2.0 in ./.venv/lib/python3.9/site-packages (from matplotlib) (6.4.5)\n",
      "Requirement already satisfied: zipp>=3.1.0 in ./.venv/lib/python3.9/site-packages (from importlib-resources>=3.2.0->matplotlib) (3.20.2)\n",
      "Requirement already satisfied: six>=1.5 in ./.venv/lib/python3.9/site-packages (from python-dateutil>=2.7->matplotlib) (1.16.0)\n"
     ]
    }
   ],
   "source": [
    "!pip install plotly\n",
    "!pip install matplotlib"
   ]
  },
  {
   "cell_type": "code",
   "execution_count": 3,
   "id": "33e73fc3-9701-40e5-a123-a020e39de488",
   "metadata": {},
   "outputs": [
    {
     "name": "stderr",
     "output_type": "stream",
     "text": [
      "2025-01-06 09:18:05,495 : INFO : DB Logging\n"
     ]
    }
   ],
   "source": [
    "import os\n",
    "import jaydebeapi, jpype\n",
    "import sys\n",
    "import logging\n",
    "import json\n",
    "import pandas as pd\n",
    "import datetime\n",
    "from dotenv import load_dotenv\n",
    "import plotly.graph_objects as go\n",
    "import matplotlib.pyplot as plt\n",
    "import warnings\n",
    "warnings.filterwarnings(\"ignore\")\n",
    "\n",
    "''' import db.py '''\n",
    "from workflow.jupyter_workflow.db import oracle_database\n",
    "\n",
    "load_dotenv()\n",
    "\n",
    "logging.basicConfig(format='%(asctime)s : %(levelname)s : %(message)s', level=logging.INFO)\n",
    "\n",
    "logging.info(f\"DB Logging\")"
   ]
  },
  {
   "cell_type": "code",
   "execution_count": null,
   "id": "899a1b6b-23e1-4002-baea-d0c610676b38",
   "metadata": {},
   "outputs": [],
   "source": [
    "''' Creat object for DB '''\n",
    "db_obj = oracle_database(user=os.getenv(\"user_h2\"), db_url=os.getenv(\"db_url_h2\"), db_type='h2')\n",
    "''' Set DB Connection '''\n",
    "db_obj.set_db_connection()"
   ]
  },
  {
   "cell_type": "code",
   "execution_count": null,
   "id": "e5140ab6-75f4-4e95-91d4-10bbd7b2f4ce",
   "metadata": {},
   "outputs": [],
   "source": [
    "''' Verifying logs for the alert '''\n",
    "sql=\"\"\"\n",
    "SELECT ROWNUM, ENV_NAME,  IS_MAILING, IP_ADDRESS, LOG, CREATE_DATE FROM ALERT \n",
    "WHERE CREATE_DATE >= CURRENT_TIMESTAMP- 7\n",
    "ORDER BY CREATE_DATE DESC\n",
    "\"\"\"\n",
    "result_dict = db_obj.select_oracle_query(sql)\n",
    "\n",
    "print(\"\\n\")\n",
    "''' Display ALERT table for Security Patching'''\n",
    "print(\"# [{}] Display ALERT table for Security Patching\".format(datetime.datetime.now()))\n",
    "df = pd.DataFrame(result_dict)\n",
    "display(df.head(200))\n",
    "\n",
    "df['CREATE_DATE'] = pd.to_datetime(df['CREATE_DATE'])\n",
    "\n",
    "df1 = df['CREATE_DATE'].dt.date.value_counts().sort_index().reset_index()\n",
    "df1.columns = ['CREATE_DATE','Count']\n",
    "# df1.index = df1['CREATE_DATE']\n",
    "display(df1.head())\n",
    "\n",
    "\n",
    "list_date = df1[\"CREATE_DATE\"].tolist()\n",
    "new_list_date = []\n",
    "for element in list_date:\n",
    "    new_list_date.append(element.strftime('%m/%d/%Y'))\n",
    "\n",
    "print(df1[\"Count\"].astype(str).values.tolist())\n",
    "\n"
   ]
  },
  {
   "cell_type": "code",
   "execution_count": 6,
   "id": "16c9ee8b-c8de-4bac-9e29-83a5e69adbba",
   "metadata": {},
   "outputs": [
    {
     "name": "stderr",
     "output_type": "stream",
     "text": [
      "2025-01-06 09:18:06,525 : INFO : excute_oracle_query : \n",
      "SELECT ROWNUM, CREATE_DATE, ENV_NAME, HOST_NAME, STATUS, IP, LOG FROM MONITORING_LOG \n",
      "WHERE CREATE_DATE >= CURRENT_TIMESTAMP- 7\n",
      "ORDER BY CREATE_DATE DESC\n",
      "\n"
     ]
    },
    {
     "name": "stdout",
     "output_type": "stream",
     "text": [
      "\n",
      "\n",
      "# [2025-01-06 09:18:06.536621] Display MONITORING_LOG table\n"
     ]
    },
    {
     "data": {
      "text/html": [
       "<div>\n",
       "<style scoped>\n",
       "    .dataframe tbody tr th:only-of-type {\n",
       "        vertical-align: middle;\n",
       "    }\n",
       "\n",
       "    .dataframe tbody tr th {\n",
       "        vertical-align: top;\n",
       "    }\n",
       "\n",
       "    .dataframe thead th {\n",
       "        text-align: right;\n",
       "    }\n",
       "</style>\n",
       "<table border=\"1\" class=\"dataframe\">\n",
       "  <thead>\n",
       "    <tr style=\"text-align: right;\">\n",
       "      <th></th>\n",
       "    </tr>\n",
       "  </thead>\n",
       "  <tbody>\n",
       "  </tbody>\n",
       "</table>\n",
       "</div>"
      ],
      "text/plain": [
       "Empty DataFrame\n",
       "Columns: []\n",
       "Index: []"
      ]
     },
     "metadata": {},
     "output_type": "display_data"
    }
   ],
   "source": [
    "''' Verifying logs for the Prometheus LOG like 'ES_RESTARED' from es-restart.sh or 'ES_RESET_REPLICA' from the Prometheus App'''\n",
    "sql=\"\"\"\n",
    "SELECT ROWNUM, CREATE_DATE, ENV_NAME, HOST_NAME, STATUS, IP, LOG FROM MONITORING_LOG \n",
    "WHERE CREATE_DATE >= CURRENT_TIMESTAMP- 7\n",
    "ORDER BY CREATE_DATE DESC\n",
    "\"\"\"\n",
    "result_dict = db_obj.select_oracle_query(sql)\n",
    "\n",
    "print(\"\\n\")\n",
    "''' Display MONITORING_LOG table'''\n",
    "print(\"# [{}] Display MONITORING_LOG table\".format(datetime.datetime.now()))\n",
    "df = pd.DataFrame(result_dict)\n",
    "display(df.head(200))\n",
    "\n",
    "if result_dict:\n",
    "    df['CREATE_DATE'] = pd.to_datetime(df['CREATE_DATE'])\n",
    "    \n",
    "    df1 = df['CREATE_DATE'].dt.date.value_counts().sort_index().reset_index()\n",
    "    df1.columns = ['CREATE_DATE','Count']\n",
    "    display(df1.head())\n"
   ]
  },
  {
   "cell_type": "code",
   "execution_count": 7,
   "id": "df8dc90e-0bf4-4d99-a8a6-c84533eec0a5",
   "metadata": {},
   "outputs": [
    {
     "name": "stderr",
     "output_type": "stream",
     "text": [
      "2025-01-06 09:18:06,555 : INFO : Disconnected to h2 database successfully!\n"
     ]
    }
   ],
   "source": [
    "''' SET DB Disconnection '''\n",
    "db_obj.set_db_disconnection()"
   ]
  }
 ],
 "metadata": {
  "kernelspec": {
   "display_name": "Python 3 (ipykernel)",
   "language": "python",
   "name": "python3"
  },
  "language_info": {
   "codemirror_mode": {
    "name": "ipython",
    "version": 3
   },
   "file_extension": ".py",
   "mimetype": "text/x-python",
   "name": "python",
   "nbconvert_exporter": "python",
   "pygments_lexer": "ipython3",
   "version": "3.9.0"
  }
 },
 "nbformat": 4,
 "nbformat_minor": 5
}
