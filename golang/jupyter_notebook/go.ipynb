{
 "cells": [
  {
   "cell_type": "code",
   "execution_count": 30,
   "id": "58764c57-1a69-4f64-9777-fa6b408bce7d",
   "metadata": {},
   "outputs": [],
   "source": [
    "package main\n",
    "import \"fmt\""
   ]
  },
  {
   "cell_type": "code",
   "execution_count": 31,
   "id": "e29e01b8-5a78-4d10-91f0-4df19461c5b0",
   "metadata": {},
   "outputs": [],
   "source": [
    "func PrettyString(str string) string {\n",
    "\tvar prettyJSON bytes.Buffer\n",
    "\tif err := json.Indent(&prettyJSON, []byte(str), \"\", \"    \"); err != nil {\n",
    "\t\treturn \"\"\n",
    "\t}\n",
    "\treturn prettyJSON.String()\n",
    "}"
   ]
  },
  {
   "cell_type": "code",
   "execution_count": 32,
   "id": "2a309fa2-84e8-486e-a9f8-d27365cbfc18",
   "metadata": {},
   "outputs": [],
   "source": [
    "func test() {\n",
    "    var runeInitialized rune = '💕'\n",
    "    fmt.Printf(\"%c\\n\", runeInitialized)\n",
    "\n",
    "    fmt.Printf(\"%s\\n\", \"Hello World!!\")\n",
    "    xByte, err := fmt.Printf(\"Hello World!!\\n\")\n",
    "\tfmt.Printf(\"The value of xByte : %d\\nError : %v\\n\", xByte, err)\n",
    "}"
   ]
  },
  {
   "cell_type": "code",
   "execution_count": 33,
   "id": "4a31188d-a5e9-4069-83da-81c42a50773e",
   "metadata": {},
   "outputs": [],
   "source": [
    "type User struct {\n",
    "    Name  string `json:\"name\"`\n",
    "    Age   int    `json:\"age\"`\n",
    "    Email string `json:\"email\"`\n",
    "}"
   ]
  },
  {
   "cell_type": "code",
   "execution_count": 34,
   "id": "e691a2cb-9e13-479f-98fb-efd5d693ddb6",
   "metadata": {},
   "outputs": [
    {
     "name": "stdout",
     "output_type": "stream",
     "text": [
      "hello world\n",
      "💕\n",
      "Hello World!!\n",
      "Hello World!!\n",
      "The value of xByte : 14\n",
      "Error : <nil>\n",
      "\n",
      "\n",
      "User: {Name:John Doe Age:30 Email:john.doe@example.com}\n",
      "User: {\n",
      "    \"name\": \"John Doe\",\n",
      "    \"age\": 30,\n",
      "    \"email\": \"john.doe@example.com\"\n",
      "}\n",
      "User: John Doe\n",
      "User: john.doe@example.com\n"
     ]
    }
   ],
   "source": [
    "func main() {\n",
    "    fmt.Println(\"hello world\")\n",
    "\n",
    "    test()\n",
    "    fmt.Print(\"\\n\\n\")\n",
    "    jsonData := []byte(`{\"name\": \"John Doe\", \"age\": 30, \"email\": \"john.doe@example.com\"}`)\n",
    "    var user User\n",
    "    err := json.Unmarshal(jsonData, &user)\n",
    "    if err != nil {\n",
    "     fmt.Println(\"Error:\", err)\n",
    "     return\n",
    "    }\n",
    "    fmt.Printf(\"User: %+v\\n\", user)\n",
    "    fmt.Printf(\"User: %s\\n\", PrettyString(string(jsonData)))\n",
    "    fmt.Printf(\"User: %s\\n\", user.Name)\n",
    "    fmt.Printf(\"User: %s\\n\", user.Email)\n",
    "}"
   ]
  }
 ],
 "metadata": {
  "kernelspec": {
   "display_name": "Go (gonb)",
   "language": "go",
   "name": "gonb"
  },
  "language_info": {
   "codemirror_mode": "",
   "file_extension": ".go",
   "mimetype": "text/x-go",
   "name": "go",
   "nbconvert_exporter": "",
   "pygments_lexer": "",
   "version": "go1.23.5"
  }
 },
 "nbformat": 4,
 "nbformat_minor": 5
}
